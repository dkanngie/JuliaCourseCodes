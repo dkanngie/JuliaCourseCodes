{
 "cells": [
  {
   "cell_type": "code",
   "execution_count": 30,
   "metadata": {},
   "outputs": [
    {
     "name": "stdout",
     "output_type": "stream",
     "text": [
      "1\n",
      "4\n",
      "9\n",
      "16\n"
     ]
    }
   ],
   "source": [
    "for i in 1:4\n",
    "    println(i^2)\n",
    "end"
   ]
  },
  {
   "cell_type": "code",
   "execution_count": 31,
   "metadata": {},
   "outputs": [
    {
     "name": "stdout",
     "output_type": "stream",
     "text": [
      "Another iteration in the loop.\n",
      "Another iteration in the loop.\n",
      "Another iteration in the loop.\n",
      "Another iteration in the loop.\n"
     ]
    }
   ],
   "source": [
    "for i in 1:4\n",
    "    println(\"Another iteration in the loop.\")\n",
    "end"
   ]
  },
  {
   "cell_type": "code",
   "execution_count": 32,
   "metadata": {},
   "outputs": [
    {
     "ename": "UndefVarError",
     "evalue": "UndefVarError: i not defined",
     "output_type": "error",
     "traceback": [
      "UndefVarError: i not defined\n",
      "\n",
      "Stacktrace:\n",
      "  [1] top-level scope\n",
      "    @ :0\n",
      "  [2] eval\n",
      "    @ .\\boot.jl:373 [inlined]\n",
      "  [3] include_string(mapexpr::typeof(REPL.softscope), mod::Module, code::String, filename::String)\n",
      "    @ Base .\\loading.jl:1196\n",
      "  [4] #invokelatest#2\n",
      "    @ .\\essentials.jl:716 [inlined]\n",
      "  [5] invokelatest\n",
      "    @ .\\essentials.jl:714 [inlined]\n",
      "  [6] (::VSCodeServer.var\"#150#151\"{VSCodeServer.NotebookRunCellArguments, String})()\n",
      "    @ VSCodeServer c:\\Users\\ilker.arslan\\.vscode\\extensions\\julialang.language-julia-1.5.10\\scripts\\packages\\VSCodeServer\\src\\serve_notebook.jl:18\n",
      "  [7] withpath(f::VSCodeServer.var\"#150#151\"{VSCodeServer.NotebookRunCellArguments, String}, path::String)\n",
      "    @ VSCodeServer c:\\Users\\ilker.arslan\\.vscode\\extensions\\julialang.language-julia-1.5.10\\scripts\\packages\\VSCodeServer\\src\\repl.jl:185\n",
      "  [8] notebook_runcell_request(conn::VSCodeServer.JSONRPC.JSONRPCEndpoint{Base.PipeEndpoint, Base.PipeEndpoint}, params::VSCodeServer.NotebookRunCellArguments)\n",
      "    @ VSCodeServer c:\\Users\\ilker.arslan\\.vscode\\extensions\\julialang.language-julia-1.5.10\\scripts\\packages\\VSCodeServer\\src\\serve_notebook.jl:14\n",
      "  [9] dispatch_msg(x::VSCodeServer.JSONRPC.JSONRPCEndpoint{Base.PipeEndpoint, Base.PipeEndpoint}, dispatcher::VSCodeServer.JSONRPC.MsgDispatcher, msg::Dict{String, Any})\n",
      "    @ VSCodeServer.JSONRPC c:\\Users\\ilker.arslan\\.vscode\\extensions\\julialang.language-julia-1.5.10\\scripts\\packages\\JSONRPC\\src\\typed.jl:67\n",
      " [10] serve_notebook(pipename::String; crashreporting_pipename::String)\n",
      "    @ VSCodeServer c:\\Users\\ilker.arslan\\.vscode\\extensions\\julialang.language-julia-1.5.10\\scripts\\packages\\VSCodeServer\\src\\serve_notebook.jl:94\n",
      " [11] top-level scope\n",
      "    @ c:\\Users\\ilker.arslan\\.vscode\\extensions\\julialang.language-julia-1.5.10\\scripts\\notebook\\notebook.jl:12\n",
      " [12] include(mod::Module, _path::String)\n",
      "    @ Base .\\Base.jl:418\n",
      " [13] exec_options(opts::Base.JLOptions)\n",
      "    @ Base .\\client.jl:292\n",
      " [14] _start()\n",
      "    @ Base .\\client.jl:495"
     ]
    }
   ],
   "source": [
    "i"
   ]
  },
  {
   "cell_type": "code",
   "execution_count": 33,
   "metadata": {},
   "outputs": [
    {
     "name": "stdout",
     "output_type": "stream",
     "text": [
      "1\n",
      "4\n",
      "9\n",
      "16\n"
     ]
    }
   ],
   "source": [
    "for i = 1:4\n",
    "    println(i^2)\n",
    "end"
   ]
  },
  {
   "cell_type": "code",
   "execution_count": 34,
   "metadata": {},
   "outputs": [
    {
     "name": "stdout",
     "output_type": "stream",
     "text": [
      "1\n",
      "4\n",
      "9\n",
      "16\n"
     ]
    }
   ],
   "source": [
    "for i ∈ 1:4\n",
    "    println(i^2)\n",
    "end"
   ]
  },
  {
   "cell_type": "code",
   "execution_count": 35,
   "metadata": {},
   "outputs": [
    {
     "name": "stdout",
     "output_type": "stream",
     "text": [
      "Julia\n",
      "R\n",
      "Python\n",
      "C\n"
     ]
    }
   ],
   "source": [
    "for name ∈ [\"Julia\", \"R\", \"Python\", \"C\"]\n",
    "    println(name)\n",
    "end"
   ]
  },
  {
   "cell_type": "code",
   "execution_count": 36,
   "metadata": {},
   "outputs": [
    {
     "data": {
      "text/plain": [
       "5-element Vector{Int64}:\n",
       " 11\n",
       "  9\n",
       " 20\n",
       " 10\n",
       "  6"
      ]
     },
     "metadata": {},
     "output_type": "display_data"
    }
   ],
   "source": [
    "arr = rand(5:25, 5)"
   ]
  },
  {
   "cell_type": "code",
   "execution_count": 37,
   "metadata": {},
   "outputs": [
    {
     "name": "stdout",
     "output_type": "stream",
     "text": [
      "1. element is 11.\n",
      "2. element is 9.\n",
      "3. element is 20.\n",
      "4. element is 10.\n",
      "5. element is 6.\n"
     ]
    }
   ],
   "source": [
    "for i in 1:length(arr)\n",
    "    println(\"$(i). element is $(arr[i]).\")\n",
    "end"
   ]
  },
  {
   "cell_type": "code",
   "execution_count": 38,
   "metadata": {},
   "outputs": [
    {
     "name": "stdout",
     "output_type": "stream",
     "text": [
      "The 1. element 11.\n",
      "The 2. element 9.\n",
      "The 3. element 20.\n",
      "The 4. element 10.\n",
      "The 5. element 6.\n"
     ]
    }
   ],
   "source": [
    "for (index, value) ∈ enumerate(arr)\n",
    "    println(\"The $(index). element $(value).\")\n",
    "end"
   ]
  },
  {
   "cell_type": "code",
   "execution_count": 39,
   "metadata": {},
   "outputs": [
    {
     "data": {
      "text/plain": [
       "3×2 Matrix{Int64}:\n",
       " 28  16\n",
       " 28  33\n",
       " 31  37"
      ]
     },
     "metadata": {},
     "output_type": "display_data"
    }
   ],
   "source": [
    "mat = rand(15:44, (3,2))"
   ]
  },
  {
   "cell_type": "code",
   "execution_count": 40,
   "metadata": {},
   "outputs": [
    {
     "name": "stdout",
     "output_type": "stream",
     "text": [
      "Row: 1, Column: 1, Value: 28\n",
      "Row: 1, Column: 2, Value: 16\n",
      "Row: 2, Column: 1, Value: 28\n",
      "Row: 2, Column: 2, Value: 33\n",
      "Row: 3, Column: 1, Value: 31\n",
      "Row: 3, Column: 2, Value: 37\n"
     ]
    }
   ],
   "source": [
    "for row in 1:size(mat,1)\n",
    "    for col in 1:size(mat,2)\n",
    "        println(\"Row: $row, Column: $col, Value: $(mat[row,col])\")\n",
    "    end\n",
    "end"
   ]
  },
  {
   "cell_type": "code",
   "execution_count": 41,
   "metadata": {},
   "outputs": [
    {
     "name": "stdout",
     "output_type": "stream",
     "text": [
      "Row: 1, Column: 1, Value: 28\n",
      "Row: 1, Column: 2, Value: 16\n",
      "Row: 2, Column: 1, Value: 28\n",
      "Row: 2, Column: 2, Value: 33\n",
      "Row: 3, Column: 1, Value: 31\n",
      "Row: 3, Column: 2, Value: 37\n"
     ]
    }
   ],
   "source": [
    "for row in 1:size(mat,1), col in 1:size(mat,2)\n",
    "    println(\"Row: $row, Column: $col, Value: $(mat[row,col])\")\n",
    "end"
   ]
  },
  {
   "cell_type": "code",
   "execution_count": 61,
   "metadata": {},
   "outputs": [
    {
     "name": "stdout",
     "output_type": "stream",
     "text": [
      "(1, 1)(1, 2)(1, 3)(1, 4)\n",
      "(2, 1)(2, 2)(2, 3)(2, 4)\n",
      "(3, 1)(3, 2)(3, 3)(3, 4)\n",
      "(4, 1)(4, 2)(4, 3)(4, 4)\n",
      "(5, 1)(5, 2)(5, 3)(5, 4)\n",
      "(6, 1)(6, 2)(6, 3)(6, 4)\n"
     ]
    }
   ],
   "source": [
    "for row in 1:6\n",
    "    for col in 1:4\n",
    "        print((row, col))\n",
    "    end\n",
    "    println()\n",
    "end\n"
   ]
  },
  {
   "cell_type": "code",
   "execution_count": 62,
   "metadata": {},
   "outputs": [
    {
     "name": "stdout",
     "output_type": "stream",
     "text": [
      "(1, 1)(1, 2)(1, 3)(1, 4)\n",
      "(2, 1)(2, 2)(2, 3)(2, 4)\n",
      "(3, 1)(3, 2)(3, 3)(3, 4)\n",
      "(4, 1)(4, 2)(4, 3)(4, 4)\n",
      "(5, 1)(5, 2)(5, 3)(5, 4)\n",
      "(6, 1)(6, 2)(6, 3)(6, 4)\n"
     ]
    }
   ],
   "source": [
    "for row in 1:6, col in 1:4\n",
    "    print((row, col))\n",
    "    \n",
    "    if col == 4\n",
    "        println()\n",
    "    end\n",
    "end"
   ]
  },
  {
   "cell_type": "code",
   "execution_count": 42,
   "metadata": {},
   "outputs": [],
   "source": [
    "names = [\"Albert\", \"Marie\", \"Isaac\", \"Rosalind\", \"Richard\"]\n",
    "surnames = [\"Einstein\", \"Curie\", \"Newton\", \"Franklin\", \"Feynman\"]\n",
    "birthyears = [1879, 1867, 1643, 1920, 1918];"
   ]
  },
  {
   "cell_type": "code",
   "execution_count": 43,
   "metadata": {},
   "outputs": [
    {
     "name": "stdout",
     "output_type": "stream",
     "text": [
      "(\"Albert\", \"Einstein\", 1879)\n",
      "(\"Marie\", \"Curie\", 1867)\n",
      "(\"Isaac\", \"Newton\", 1643)\n",
      "(\"Rosalind\", \"Franklin\", 1920)\n",
      "(\"Richard\", \"Feynman\", 1918)\n"
     ]
    }
   ],
   "source": [
    "for (name, surname, byear) in zip(names, surnames, birthyears)\n",
    "    println((name, surname, byear))\n",
    "end"
   ]
  },
  {
   "cell_type": "code",
   "execution_count": 44,
   "metadata": {},
   "outputs": [
    {
     "data": {
      "text/plain": [
       "Dict{String, Int64} with 4 entries:\n",
       "  \"c\" => 30\n",
       "  \"b\" => 20\n",
       "  \"a\" => 10\n",
       "  \"d\" => 40"
      ]
     },
     "metadata": {},
     "output_type": "display_data"
    }
   ],
   "source": [
    "d = Dict(\"a\" => 10, \"b\" => 20, \"c\" => 30, \"d\" => 40)"
   ]
  },
  {
   "cell_type": "code",
   "execution_count": 45,
   "metadata": {},
   "outputs": [
    {
     "name": "stdout",
     "output_type": "stream",
     "text": [
      "Key is: c, Value is: 30\n",
      "Key is: b, Value is: 20\n",
      "Key is: a, Value is: 10\n",
      "Key is: d, Value is: 40\n"
     ]
    }
   ],
   "source": [
    "for (key, val) in d \n",
    "    println(\"Key is: $key, Value is: $val\")\n",
    "end"
   ]
  },
  {
   "cell_type": "code",
   "execution_count": 46,
   "metadata": {},
   "outputs": [
    {
     "name": "stdout",
     "output_type": "stream",
     "text": [
      "Key is: c, Value is: 30\n",
      "Key is: b, Value is: 20\n",
      "Key is: a, Value is: 10\n",
      "Key is: d, Value is: 40\n"
     ]
    }
   ],
   "source": [
    "for item in d \n",
    "    println(\"Key is: $(item.first), Value is: $(item.second)\")\n",
    "end"
   ]
  },
  {
   "cell_type": "code",
   "execution_count": 47,
   "metadata": {},
   "outputs": [
    {
     "name": "stdout",
     "output_type": "stream",
     "text": [
      "J|u|l|i|a| |L|a|n|g|u|a|g|e|"
     ]
    }
   ],
   "source": [
    "str = \"Julia Language\"\n",
    "for c in str \n",
    "    print(\"$c|\") \n",
    "end"
   ]
  },
  {
   "cell_type": "code",
   "execution_count": 49,
   "metadata": {},
   "outputs": [
    {
     "name": "stdout",
     "output_type": "stream",
     "text": [
      "For loop is the most common type of loop.\n",
      "The other type of loop is the while loop. \n",
      "Loops are very powerful and fast in Julia. \n"
     ]
    }
   ],
   "source": [
    "file = \"inputFile.txt\"\n",
    "\n",
    "for line ∈ eachline(file)\n",
    "    println(line)\n",
    "end"
   ]
  },
  {
   "cell_type": "code",
   "execution_count": 52,
   "metadata": {},
   "outputs": [
    {
     "name": "stdout",
     "output_type": "stream",
     "text": [
      "a,b,c,d,123\n",
      "e,f,g,h,456\n",
      "k,l,m,n,789\n"
     ]
    }
   ],
   "source": [
    "csvfile = \"input.csv\"\n",
    "for line ∈ eachline(csvfile)\n",
    "    println(line)\n",
    "end"
   ]
  },
  {
   "cell_type": "code",
   "execution_count": 53,
   "metadata": {},
   "outputs": [
    {
     "data": {
      "text/plain": [
       "100-element Vector{Int64}:\n",
       " -860079\n",
       " -689396\n",
       " -279465\n",
       " -217050\n",
       " -510529\n",
       " -437822\n",
       "  881621\n",
       "  363864\n",
       " -196985\n",
       " -986622\n",
       "       ⋮\n",
       "  130387\n",
       " -525328\n",
       " -302858\n",
       "  269088\n",
       "  378564\n",
       "  465606\n",
       "  -11953\n",
       "  545024\n",
       "  477082"
      ]
     },
     "metadata": {},
     "output_type": "display_data"
    }
   ],
   "source": [
    "arr = rand(-1_000_000:1_000_000, 100)"
   ]
  },
  {
   "cell_type": "code",
   "execution_count": 56,
   "metadata": {},
   "outputs": [
    {
     "name": "stdout",
     "output_type": "stream",
     "text": [
      "984716\n"
     ]
    }
   ],
   "source": [
    "maxnum = typemin(Int64)\n",
    "\n",
    "for num ∈ arr\n",
    "    if num > maxnum\n",
    "        maxnum = num\n",
    "    end\n",
    "end\n",
    "println(maxnum)"
   ]
  },
  {
   "cell_type": "code",
   "execution_count": 57,
   "metadata": {},
   "outputs": [
    {
     "name": "stdout",
     "output_type": "stream",
     "text": [
      "27860.63\n"
     ]
    }
   ],
   "source": [
    "sum = 0\n",
    "n = 0\n",
    "\n",
    "for num = arr\n",
    "    sum += num\n",
    "    n += 1\n",
    "end\n",
    "average = sum / n \n",
    "println(average)"
   ]
  },
  {
   "cell_type": "code",
   "execution_count": null,
   "metadata": {},
   "outputs": [],
   "source": []
  }
 ],
 "metadata": {
  "kernelspec": {
   "display_name": "Julia 1.8.3",
   "language": "julia",
   "name": "julia-1.8"
  },
  "language_info": {
   "file_extension": ".jl",
   "mimetype": "application/julia",
   "name": "julia",
   "version": "1.8.3"
  },
  "orig_nbformat": 4
 },
 "nbformat": 4,
 "nbformat_minor": 2
}
