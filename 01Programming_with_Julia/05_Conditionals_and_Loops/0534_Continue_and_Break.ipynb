{
 "cells": [
  {
   "cell_type": "code",
   "execution_count": 15,
   "metadata": {},
   "outputs": [],
   "source": [
    "arr = [3, 5, 7, 9, 42, 999, 11, 13, 15, 999, 44];"
   ]
  },
  {
   "cell_type": "code",
   "execution_count": 3,
   "metadata": {},
   "outputs": [
    {
     "name": "stdout",
     "output_type": "stream",
     "text": [
      "3\n",
      "5\n",
      "7\n",
      "9\n",
      "42\n",
      "Break condition is met!\n"
     ]
    }
   ],
   "source": [
    "for el ∈ arr\n",
    "    if el == 999\n",
    "        println(\"Break condition is met!\")\n",
    "        break\n",
    "    end\n",
    "    println(el)\n",
    "end"
   ]
  },
  {
   "cell_type": "code",
   "execution_count": 4,
   "metadata": {},
   "outputs": [
    {
     "name": "stdout",
     "output_type": "stream",
     "text": [
      "3\n",
      "5\n",
      "7\n",
      "9\n",
      "42\n",
      "Break condition is met!\n"
     ]
    }
   ],
   "source": [
    "i = 1\n",
    "while i <= length(arr)\n",
    "    if arr[i] == 999\n",
    "        println(\"Break condition is met!\")\n",
    "        break\n",
    "    end\n",
    "    println(arr[i])\n",
    "    global i += 1\n",
    "end"
   ]
  },
  {
   "cell_type": "code",
   "execution_count": 5,
   "metadata": {},
   "outputs": [
    {
     "name": "stdout",
     "output_type": "stream",
     "text": [
      "3\n",
      "5\n",
      "7\n",
      "9\n",
      "42\n",
      "Continue condition is met\n",
      "11\n",
      "13\n",
      "15\n",
      "Continue condition is met\n",
      "44\n"
     ]
    }
   ],
   "source": [
    "for el ∈ arr\n",
    "    if el == 999\n",
    "        println(\"Continue condition is met\")\n",
    "        continue\n",
    "    end\n",
    "    println(el)\n",
    "end"
   ]
  },
  {
   "cell_type": "code",
   "execution_count": 6,
   "metadata": {},
   "outputs": [
    {
     "name": "stdout",
     "output_type": "stream",
     "text": [
      "3\n",
      "5\n",
      "7\n",
      "9\n",
      "42\n",
      "11\n",
      "13\n",
      "15\n",
      "44\n"
     ]
    }
   ],
   "source": [
    "i = 0\n",
    "while i < length(arr)\n",
    "    global i += 1\n",
    "    if arr[i] == 999          \n",
    "        continue\n",
    "    end\n",
    "    println(arr[i])\n",
    "end"
   ]
  },
  {
   "cell_type": "code",
   "execution_count": 16,
   "metadata": {},
   "outputs": [
    {
     "name": "stdout",
     "output_type": "stream",
     "text": [
      "42\n",
      "44\n"
     ]
    }
   ],
   "source": [
    "for el ∈ arr \n",
    "    if el % 2 == 1 continue end\n",
    "    println(el)\n",
    "end"
   ]
  },
  {
   "cell_type": "code",
   "execution_count": 13,
   "metadata": {},
   "outputs": [
    {
     "name": "stdout",
     "output_type": "stream",
     "text": [
      "It took 75 tries to get (6,6).\n"
     ]
    }
   ],
   "source": [
    "numtries = 0\n",
    "while true\n",
    "    global numtries +=1\n",
    "    m, n = rand((1:6)), rand((1:6))\n",
    "    if (m,n) == (6,6) break end\n",
    "end\n",
    "println(\"It took $numtries tries to get (6,6).\")"
   ]
  },
  {
   "cell_type": "code",
   "execution_count": null,
   "metadata": {},
   "outputs": [],
   "source": []
  }
 ],
 "metadata": {
  "kernelspec": {
   "display_name": "Julia 1.8.3",
   "language": "julia",
   "name": "julia-1.8"
  },
  "language_info": {
   "file_extension": ".jl",
   "mimetype": "application/julia",
   "name": "julia",
   "version": "1.8.3"
  },
  "orig_nbformat": 4
 },
 "nbformat": 4,
 "nbformat_minor": 2
}
