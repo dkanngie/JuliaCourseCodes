{
 "cells": [
  {
   "cell_type": "code",
   "execution_count": null,
   "metadata": {},
   "outputs": [],
   "source": [
    "i = 1;\n",
    "\n",
    "while i < 5\n",
    "    println(i^2)\n",
    "    global i += 1   # i = i + 1\n",
    "end"
   ]
  },
  {
   "cell_type": "code",
   "execution_count": null,
   "metadata": {},
   "outputs": [],
   "source": [
    "arr = [3, 5, 7, 9, 11, 13, 15]\n",
    "\n",
    "while !isempty(arr)\n",
    "    print(pop!(arr), \" \")\n",
    "end"
   ]
  },
  {
   "cell_type": "code",
   "execution_count": null,
   "metadata": {},
   "outputs": [],
   "source": [
    "file = open(\"inputFile.txt\", \"r\")\n",
    "line = readline(file)\n",
    "while line != \"\"\n",
    "    println(line)\n",
    "    line = readline(file)\n",
    "end\n",
    "close(file)"
   ]
  }
 ],
 "metadata": {
  "kernelspec": {
   "display_name": "Julia 1.8.3",
   "language": "julia",
   "name": "julia-1.8"
  },
  "language_info": {
   "file_extension": ".jl",
   "mimetype": "application/julia",
   "name": "julia",
   "version": "1.8.3"
  },
  "orig_nbformat": 4
 },
 "nbformat": 4,
 "nbformat_minor": 2
}
